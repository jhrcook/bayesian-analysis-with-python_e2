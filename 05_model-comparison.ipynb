{
 "cells": [
  {
   "cell_type": "markdown",
   "metadata": {},
   "source": [
    "# Ch 5. Model Comparison\n",
    "\n",
    "1. Posterior predictive checks\n",
    "2. Occam's razor—simplicity and accuracy\n",
    "3. Overfitting and underfitting\n",
    "4. Information criteria\n",
    "5. Bayes factors\n",
    "6. Regularizing priors"
   ]
  },
  {
   "cell_type": "code",
   "execution_count": 1,
   "metadata": {},
   "outputs": [],
   "source": [
    "import numpy as np\n",
    "import pandas as pd\n",
    "from scipy import stats\n",
    "import pymc3 as pm\n",
    "import arviz as az\n",
    "import matplotlib.pyplot as plt\n",
    "import seaborn as sns\n",
    "import plotnine as gg"
   ]
  },
  {
   "cell_type": "markdown",
   "metadata": {},
   "source": [
    "## Posterior predictive checks (PPC)\n",
    "\n",
    "- a way to evalutate a model in the context of the purpose of the model\n",
    "- with multiple models, can use PPC to compare them"
   ]
  },
  {
   "cell_type": "code",
   "execution_count": 22,
   "metadata": {},
   "outputs": [
    {
     "data": {
      "text/plain": [
       "1.5152251489115205"
      ]
     },
     "execution_count": 22,
     "metadata": {},
     "output_type": "execute_result"
    }
   ],
   "source": [
    "dummy_data.x.std()"
   ]
  },
  {
   "cell_type": "code",
   "execution_count": 71,
   "metadata": {},
   "outputs": [
    {
     "data": {
      "image/png": "[encoded data removed]",
      "text/plain": [
       "<Figure size 640x480 with 1 Axes>"
      ]
     },
     "metadata": {},
     "output_type": "display_data"
    },
    {
     "data": {
      "text/plain": [
       "<ggplot: (309953588)>"
      ]
     },
     "execution_count": 71,
     "metadata": {},
     "output_type": "execute_result"
    }
   ],
   "source": [
    "dummy_data = pd.DataFrame(np.loadtxt(\"data/dummy.csv\"), columns=[\"x_1\", \"y\"])\n",
    "\n",
    "dummy_data = dummy_data.assign(\n",
    "    x_1s=lambda df: (df.x_1 - df.x_1.mean()) / df.x_1.std(),\n",
    "    x_2s=lambda df: df.x_1s ** 2,\n",
    "    y_s=lambda df: (df.y - df.y.mean()) / df.y.std(),\n",
    ")\n",
    "\n",
    "(\n",
    "    gg.ggplot(dummy_data, gg.aes(\"x_1s\", \"y_s\"))\n",
    "    + gg.geom_point()\n",
    "    + gg.theme_classic()\n",
    "    + gg.labs(x=\"x (scaled)\", y=\"y (scaled)\")\n",
    ")"
   ]
  },
  {
   "cell_type": "markdown",
   "metadata": {},
   "source": [
    "- example: compare linear and polynomial data"
   ]
  },
  {
   "cell_type": "code",
   "execution_count": 72,
   "metadata": {},
   "outputs": [
    {
     "name": "stderr",
     "output_type": "stream",
     "text": [
      "Auto-assigning NUTS sampler...\n",
      "Initializing NUTS using jitter+adapt_diag...\n",
      "Multiprocess sampling (2 chains in 2 jobs)\n",
      "NUTS: [epsilon, beta, alpha]\n"
     ]
    },
    {
     "data": {
      "text/html": [
       "\n",
       "    <div>\n",
       "        <style>\n",
       "            /* Turns off some styling */\n",
       "            progress {\n",
       "                /* gets rid of default border in Firefox and Opera. */\n",
       "                border: none;\n",
       "                /* Needs to be in here for Safari polyfill so background images work as expected. */\n",
       "                background-size: auto;\n",
       "            }\n",
       "            .progress-bar-interrupted, .progress-bar-interrupted::-webkit-progress-bar {\n",
       "                background: #F44336;\n",
       "            }\n",
       "        </style>\n",
       "      <progress value='6000' class='' max='6000' style='width:300px; height:20px; vertical-align: middle;'></progress>\n",
       "      100.00% [6000/6000 00:06<00:00 Sampling 2 chains, 0 divergences]\n",
       "    </div>\n",
       "    "
      ],
      "text/plain": [
       "<IPython.core.display.HTML object>"
      ]
     },
     "metadata": {},
     "output_type": "display_data"
    },
    {
     "name": "stderr",
     "output_type": "stream",
     "text": [
      "Sampling 2 chains for 1_000 tune and 2_000 draw iterations (2_000 + 4_000 draws total) took 15 seconds.\n",
      "/Users/admin/Developer/Python/bayesian-analysis-with-python_e2/.env/lib/python3.8/site-packages/pymc3/sampling.py:1617: UserWarning: samples parameter is smaller than nchains times ndraws, some draws and/or chains may not be represented in the returned posterior predictive sample\n"
     ]
    },
    {
     "data": {
      "text/html": [
       "\n",
       "    <div>\n",
       "        <style>\n",
       "            /* Turns off some styling */\n",
       "            progress {\n",
       "                /* gets rid of default border in Firefox and Opera. */\n",
       "                border: none;\n",
       "                /* Needs to be in here for Safari polyfill so background images work as expected. */\n",
       "                background-size: auto;\n",
       "            }\n",
       "            .progress-bar-interrupted, .progress-bar-interrupted::-webkit-progress-bar {\n",
       "                background: #F44336;\n",
       "            }\n",
       "        </style>\n",
       "      <progress value='2000' class='' max='2000' style='width:300px; height:20px; vertical-align: middle;'></progress>\n",
       "      100.00% [2000/2000 00:02<00:00]\n",
       "    </div>\n",
       "    "
      ],
      "text/plain": [
       "<IPython.core.display.HTML object>"
      ]
     },
     "metadata": {},
     "output_type": "display_data"
    }
   ],
   "source": [
    "with pm.Model() as model_l:\n",
    "    alpha = pm.Normal(\"alpha\", mu=0, sd=1)\n",
    "    beta = pm.Normal(\"beta\", mu=0, sd=10)\n",
    "    epsilon = pm.HalfNormal(\"epsilon\", 5)\n",
    "\n",
    "    mu = alpha + beta * dummy_data[\"x_1s\"]\n",
    "\n",
    "    y_pred = pm.Normal(\"y_pred\", mu=mu, sd=epsilon, observed=dummy_data[\"y_s\"])\n",
    "    trace_l = pm.sample(2000)\n",
    "    postpredcheck_l = pm.sample_posterior_predictive(trace_l, 2000)"
   ]
  },
  {
   "cell_type": "code",
   "execution_count": 73,
   "metadata": {},
   "outputs": [
    {
     "name": "stderr",
     "output_type": "stream",
     "text": [
      "arviz.data.io_pymc3 - WARNING - posterior predictive variable y_pred's shape not compatible with number of chains and draws. This can mean that some draws or even whole chains are not represented.\n"
     ]
    }
   ],
   "source": [
    "az_l = az.from_pymc3(trace=trace_l, model=model_l, posterior_predictive=postpredcheck_l)"
   ]
  },
  {
   "cell_type": "code",
   "execution_count": 74,
   "metadata": {},
   "outputs": [
    {
     "name": "stderr",
     "output_type": "stream",
     "text": [
      "Auto-assigning NUTS sampler...\n",
      "Initializing NUTS using jitter+adapt_diag...\n",
      "Multiprocess sampling (2 chains in 2 jobs)\n",
      "NUTS: [epsilon, beta, alpha]\n"
     ]
    },
    {
     "data": {
      "text/html": [
       "\n",
       "    <div>\n",
       "        <style>\n",
       "            /* Turns off some styling */\n",
       "            progress {\n",
       "                /* gets rid of default border in Firefox and Opera. */\n",
       "                border: none;\n",
       "                /* Needs to be in here for Safari polyfill so background images work as expected. */\n",
       "                background-size: auto;\n",
       "            }\n",
       "            .progress-bar-interrupted, .progress-bar-interrupted::-webkit-progress-bar {\n",
       "                background: #F44336;\n",
       "            }\n",
       "        </style>\n",
       "      <progress value='6000' class='' max='6000' style='width:300px; height:20px; vertical-align: middle;'></progress>\n",
       "      100.00% [6000/6000 00:09<00:00 Sampling 2 chains, 0 divergences]\n",
       "    </div>\n",
       "    "
      ],
      "text/plain": [
       "<IPython.core.display.HTML object>"
      ]
     },
     "metadata": {},
     "output_type": "display_data"
    },
    {
     "name": "stderr",
     "output_type": "stream",
     "text": [
      "Sampling 2 chains for 1_000 tune and 2_000 draw iterations (2_000 + 4_000 draws total) took 15 seconds.\n",
      "/Users/admin/Developer/Python/bayesian-analysis-with-python_e2/.env/lib/python3.8/site-packages/pymc3/sampling.py:1617: UserWarning: samples parameter is smaller than nchains times ndraws, some draws and/or chains may not be represented in the returned posterior predictive sample\n"
     ]
    },
    {
     "data": {
      "text/html": [
       "\n",
       "    <div>\n",
       "        <style>\n",
       "            /* Turns off some styling */\n",
       "            progress {\n",
       "                /* gets rid of default border in Firefox and Opera. */\n",
       "                border: none;\n",
       "                /* Needs to be in here for Safari polyfill so background images work as expected. */\n",
       "                background-size: auto;\n",
       "            }\n",
       "            .progress-bar-interrupted, .progress-bar-interrupted::-webkit-progress-bar {\n",
       "                background: #F44336;\n",
       "            }\n",
       "        </style>\n",
       "      <progress value='2000' class='' max='2000' style='width:300px; height:20px; vertical-align: middle;'></progress>\n",
       "      100.00% [2000/2000 00:02<00:00]\n",
       "    </div>\n",
       "    "
      ],
      "text/plain": [
       "<IPython.core.display.HTML object>"
      ]
     },
     "metadata": {},
     "output_type": "display_data"
    }
   ],
   "source": [
    "with pm.Model() as model_p:\n",
    "    alpha = pm.Normal(\"alpha\", mu=0, sd=1)\n",
    "    beta = pm.Normal(\"beta\", mu=0, sd=10, shape=2)\n",
    "    epsilon = pm.HalfNormal(\"epsilon\", 5)\n",
    "\n",
    "    mu = alpha + pm.math.dot(beta, dummy_data[[\"x_1s\", \"x_2s\"]].to_numpy().T)\n",
    "\n",
    "    y_pred = pm.Normal(\"y_pred\", mu=mu, sd=epsilon, observed=dummy_data[\"y_s\"])\n",
    "    trace_p = pm.sample(2000)\n",
    "    postpredcheck_p = pm.sample_posterior_predictive(trace_p, 2000)"
   ]
  },
  {
   "cell_type": "code",
   "execution_count": 75,
   "metadata": {},
   "outputs": [
    {
     "name": "stderr",
     "output_type": "stream",
     "text": [
      "arviz.data.io_pymc3 - WARNING - posterior predictive variable y_pred's shape not compatible with number of chains and draws. This can mean that some draws or even whole chains are not represented.\n"
     ]
    }
   ],
   "source": [
    "az_p = az.from_pymc3(trace=trace_p, model=model_p, posterior_predictive=postpredcheck_p)"
   ]
  },
  {
   "cell_type": "code",
   "execution_count": 76,
   "metadata": {},
   "outputs": [
    {
     "data": {
      "image/png": "[encoded data removed]",
      "text/plain": [
       "<Figure size 640x480 with 1 Axes>"
      ]
     },
     "metadata": {},
     "output_type": "display_data"
    },
    {
     "data": {
      "text/plain": [
       "<ggplot: (309400724)>"
      ]
     },
     "execution_count": 76,
     "metadata": {},
     "output_type": "execute_result"
    }
   ],
   "source": [
    "x_new = np.linspace(dummy_data.x_1s.min(), dummy_data.x_1s.max(), 100)\n",
    "\n",
    "alpha_l_post = trace_l[\"alpha\"].mean()\n",
    "beta_l_post = trace_l[\"beta\"].mean(axis=0)\n",
    "y_l_post = alpha_l_post + beta_l_post * x_new\n",
    "ppc_l = pd.DataFrame({\"x\": x_new, \"y\": y_l_post, \"model\": \"linear\"})\n",
    "\n",
    "alpha_p_post = trace_p[\"alpha\"].mean()\n",
    "beta_p_post = trace_p[\"beta\"].mean(axis=0)\n",
    "y_p_post = alpha_p_post + beta_p_post[0] * x_new + beta_p_post[1] * (x_new ** 2)\n",
    "ppc_p = pd.DataFrame({\"x\": x_new, \"y\": y_p_post, \"model\": \"polynomial\"})\n",
    "\n",
    "\n",
    "(\n",
    "    gg.ggplot(pd.concat([ppc_l, ppc_p]))\n",
    "    + gg.aes(\"x\", \"y\")\n",
    "    + gg.geom_line(gg.aes(color=\"model\"))\n",
    "    + gg.geom_point(gg.aes(x=\"x_1s\", y=\"y_s\"), data=dummy_data)\n",
    "    + gg.scale_color_brewer(type=\"qual\", palette=\"Set1\")\n",
    "    + gg.theme_classic()\n",
    "    + gg.theme(legend_position=(0.8, 0.6))\n",
    "    + gg.labs(\n",
    "        x=\"x (scaled)\",\n",
    "        y=\"y (scaled)\",\n",
    "        title=\"PPC of linear and polynomial models on dummy data\",\n",
    "    )\n",
    ")"
   ]
  },
  {
   "cell_type": "markdown",
   "metadata": {},
   "source": [
    "## Occam's razor – simplicity and accuracy"
   ]
  },
  {
   "cell_type": "markdown",
   "metadata": {},
   "source": [
    "## Information criteria\n",
    "\n",
    "- tools for measuring how well the model fits the data given the complexity of the model"
   ]
  },
  {
   "cell_type": "markdown",
   "metadata": {},
   "source": [
    "### Model comparison with PyMC3"
   ]
  },
  {
   "cell_type": "code",
   "execution_count": 81,
   "metadata": {},
   "outputs": [
    {
     "data": {
      "text/plain": [
       "Computed from 4000 by 33 log-likelihood matrix\n",
       "\n",
       "          Estimate       SE\n",
       "elpd_waic   -13.87     2.69\n",
       "p_waic        2.47        -\n",
       "\n",
       "The scale is now log by default. Use 'scale' argument or 'stats.ic_scale' rcParam if\n",
       "you rely on a specific value.\n",
       "A higher log-score (or a lower deviance) indicates a model with better predictive\n",
       "accuracy."
      ]
     },
     "execution_count": 81,
     "metadata": {},
     "output_type": "execute_result"
    }
   ],
   "source": [
    "az.waic(az_l)"
   ]
  },
  {
   "cell_type": "code",
   "execution_count": 82,
   "metadata": {},
   "outputs": [
    {
     "data": {
      "text/plain": [
       "Computed from 4000 by 33 log-likelihood matrix\n",
       "\n",
       "          Estimate       SE\n",
       "elpd_waic    -4.10     2.35\n",
       "p_waic        2.69        -\n",
       "\n",
       "The scale is now log by default. Use 'scale' argument or 'stats.ic_scale' rcParam if\n",
       "you rely on a specific value.\n",
       "A higher log-score (or a lower deviance) indicates a model with better predictive\n",
       "accuracy."
      ]
     },
     "execution_count": 82,
     "metadata": {},
     "output_type": "execute_result"
    }
   ],
   "source": [
    "az.waic(az_p)"
   ]
  },
  {
   "cell_type": "code",
   "execution_count": 88,
   "metadata": {},
   "outputs": [
    {
     "name": "stderr",
     "output_type": "stream",
     "text": [
      "/Users/admin/Developer/Python/bayesian-analysis-with-python_e2/.env/lib/python3.8/site-packages/arviz/stats/stats.py:150: UserWarning: \n",
      "The scale is now log by default. Use 'scale' argument or 'stats.ic_scale' rcParam if you rely on a specific value.\n",
      "A higher log-score (or a lower deviance) indicates a model with better predictive accuracy.\n"
     ]
    },
    {
     "data": {
      "text/html": [
       "<div>\n",
       "<style scoped>\n",
       "    .dataframe tbody tr th:only-of-type {\n",
       "        vertical-align: middle;\n",
       "    }\n",
       "\n",
       "    .dataframe tbody tr th {\n",
       "        vertical-align: top;\n",
       "    }\n",
       "\n",
       "    .dataframe thead th {\n",
       "        text-align: right;\n",
       "    }\n",
       "</style>\n",
       "<table border=\"1\" class=\"dataframe\">\n",
       "  <thead>\n",
       "    <tr style=\"text-align: right;\">\n",
       "      <th></th>\n",
       "      <th>rank</th>\n",
       "      <th>loo</th>\n",
       "      <th>p_loo</th>\n",
       "      <th>d_loo</th>\n",
       "      <th>weight</th>\n",
       "      <th>se</th>\n",
       "      <th>dse</th>\n",
       "      <th>warning</th>\n",
       "      <th>loo_scale</th>\n",
       "    </tr>\n",
       "  </thead>\n",
       "  <tbody>\n",
       "    <tr>\n",
       "      <th>polynomal_model</th>\n",
       "      <td>0</td>\n",
       "      <td>-4.13972</td>\n",
       "      <td>2.72082</td>\n",
       "      <td>0</td>\n",
       "      <td>0.998179</td>\n",
       "      <td>2.69576</td>\n",
       "      <td>0</td>\n",
       "      <td>False</td>\n",
       "      <td>log</td>\n",
       "    </tr>\n",
       "    <tr>\n",
       "      <th>linear_model</th>\n",
       "      <td>1</td>\n",
       "      <td>-13.8833</td>\n",
       "      <td>2.48809</td>\n",
       "      <td>9.74363</td>\n",
       "      <td>0.00182077</td>\n",
       "      <td>2.41675</td>\n",
       "      <td>2.67658</td>\n",
       "      <td>False</td>\n",
       "      <td>log</td>\n",
       "    </tr>\n",
       "  </tbody>\n",
       "</table>\n",
       "</div>"
      ],
      "text/plain": [
       "                rank      loo    p_loo    d_loo      weight       se      dse  \\\n",
       "polynomal_model    0 -4.13972  2.72082        0    0.998179  2.69576        0   \n",
       "linear_model       1 -13.8833  2.48809  9.74363  0.00182077  2.41675  2.67658   \n",
       "\n",
       "                warning loo_scale  \n",
       "polynomal_model   False       log  \n",
       "linear_model      False       log  "
      ]
     },
     "execution_count": 88,
     "metadata": {},
     "output_type": "execute_result"
    }
   ],
   "source": [
    "az.compare({\"linear_model\": az_l, \"polynomal_model\": az_p})"
   ]
  },
  {
   "cell_type": "code",
   "execution_count": 89,
   "metadata": {},
   "outputs": [
    {
     "name": "stderr",
     "output_type": "stream",
     "text": [
      "/Users/admin/Developer/Python/bayesian-analysis-with-python_e2/.env/lib/python3.8/site-packages/arviz/stats/stats.py:150: UserWarning: \n",
      "The scale is now log by default. Use 'scale' argument or 'stats.ic_scale' rcParam if you rely on a specific value.\n",
      "A higher log-score (or a lower deviance) indicates a model with better predictive accuracy.\n"
     ]
    },
    {
     "data": {
      "text/plain": [
       "<AxesSubplot:xlabel='Log'>"
      ]
     },
     "execution_count": 89,
     "metadata": {},
     "output_type": "execute_result"
    },
    {
     "data": {
      "image/png": "[encoded data removed]",
      "text/plain": [
       "<Figure size 432x144 with 1 Axes>"
      ]
     },
     "metadata": {
      "needs_background": "light"
     },
     "output_type": "display_data"
    }
   ],
   "source": [
    "az.plot_compare(az.compare({\"linear_model\": az_l, \"polynomal_model\": az_p}))"
   ]
  },
  {
   "cell_type": "markdown",
   "metadata": {},
   "source": [
    "## Bayes factors[sic]\n",
    "\n",
    "- **Bayes factor**\n",
    "\n",
    "$$\n",
    "BF = \\frac{\\Pr(y | M_0)}{\\Pr(y | M_1)}\n",
    "$$\n",
    "\n",
    "- if $BF > 1$ than model 0 is better at explaining the results than model 1\n",
    "    - 1-3: weak\n",
    "    - 3-10: moderate\n",
    "    - 10-30: strong\n",
    "    - 30-100: very strong\n",
    "    - \\>100: extreme\n",
    "- BF are frequently criticized as  hypothesis tested\n",
    "    - inference based model comparison is generally preferred"
   ]
  },
  {
   "cell_type": "markdown",
   "metadata": {},
   "source": [
    "### Regularizing priors\n",
    "\n",
    "- **regurlaization**: adding a bias to reduce a generalization error without affecting the ability of the model to fit\n",
    "    - common way is to penalize larger parameter values\n",
    "    - a Bayesian method is to use a tighter prior distribution\n",
    "    - a Laplace distribution has a peak at 0 and can be used to introduce sparsity"
   ]
  },
  {
   "cell_type": "code",
   "execution_count": null,
   "metadata": {},
   "outputs": [],
   "source": []
  }
 ],
 "metadata": {
  "kernelspec": {
   "display_name": "Python 3",
   "language": "python",
   "name": "python3"
  },
  "language_info": {
   "codemirror_mode": {
    "name": "ipython",
    "version": 3
   },
   "file_extension": ".py",
   "mimetype": "text/x-python",
   "name": "python",
   "nbconvert_exporter": "python",
   "pygments_lexer": "ipython3",
   "version": "3.8.5"
  }
 },
 "nbformat": 4,
 "nbformat_minor": 4
}
